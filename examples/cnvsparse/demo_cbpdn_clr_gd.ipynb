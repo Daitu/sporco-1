{
 "cells": [
  {
   "cell_type": "markdown",
   "metadata": {
    "deletable": true,
    "editable": true
   },
   "source": [
    "# Solving a multi-channel CBPDN problem using SPORCO"
   ]
  },
  {
   "cell_type": "markdown",
   "metadata": {
    "deletable": true,
    "editable": true
   },
   "source": [
    "This notebook demonstrates the use of SPORCO to solve a Convolutional Basis Pursuit DeNoising (CBPDN) problem with a greyscale dictionary and a colour signal\n",
    "\n",
    "$$\\mathrm{argmin}_\\mathbf{x} \\; (1/2) \\sum_c \\left\\| \\sum_m \\mathbf{d}_m * \\mathbf{x}_{c,m} - \\mathbf{s}_c \\right\\|_2^2 + \\lambda \\sum_c \\sum_m \\| \\mathbf{x}_{c,m} \\|_1$$\n",
    "\n",
    "where $\\mathbf{d}_{m}$ is the $m^{\\text{th}}$ dictionary filter, $\\mathbf{x}_{c,m}$ is the coefficient map corresponding to the $m^{\\text{th}}$ dictionary filter and channel $c$ of the input image, and $\\mathbf{s}_c$ is channel $c$ of the input image.\n",
    "\n"
   ]
  },
  {
   "cell_type": "markdown",
   "metadata": {
    "collapsed": false,
    "deletable": true,
    "editable": true
   },
   "source": [
    "Import modules and configure matplotlib output to notebook."
   ]
  },
  {
   "cell_type": "code",
   "execution_count": 1,
   "metadata": {
    "collapsed": false,
    "deletable": true,
    "editable": true
   },
   "outputs": [],
   "source": [
    "from __future__ import print_function\n",
    "from builtins import input\n",
    "from builtins import range\n",
    "\n",
    "import numpy as np\n",
    "\n",
    "from sporco import util\n",
    "from sporco import plot\n",
    "import sporco.linalg as spl\n",
    "from sporco.admm import cbpdn\n",
    "\n",
    "%matplotlib inline"
   ]
  },
  {
   "cell_type": "markdown",
   "metadata": {
    "collapsed": true,
    "deletable": true,
    "editable": true
   },
   "source": [
    "Load test image and compute lowpass and highpass components."
   ]
  },
  {
   "cell_type": "code",
   "execution_count": 2,
   "metadata": {
    "collapsed": true,
    "deletable": true,
    "editable": true
   },
   "outputs": [],
   "source": [
    "# Load test image\n",
    "img = util.ExampleImages().image('lena', scaled=True, zoom=0.5)\n",
    "\n",
    "# Highpass filter test image\n",
    "npd = 16\n",
    "fltlmbd = 10\n",
    "sl, sh = util.tikhonov_filter(img, fltlmbd, npd)"
   ]
  },
  {
   "cell_type": "markdown",
   "metadata": {
    "deletable": true,
    "editable": true
   },
   "source": [
    "Load colour dictionary and display it."
   ]
  },
  {
   "cell_type": "code",
   "execution_count": 3,
   "metadata": {
    "collapsed": false,
    "deletable": true,
    "editable": true
   },
   "outputs": [
    {
     "data": {
      "image/png": "[encoded data removed]",
      "text/plain": [
       "<matplotlib.figure.Figure at 0x7fe1200b9898>"
      ]
     },
     "metadata": {},
     "output_type": "display_data"
    }
   ],
   "source": [
    "# Load dictionary\n",
    "D = util.convdicts()['G:8x8x64']\n",
    "\n",
    "# Display dictionary\n",
    "fig = plot.figure(figsize=(7,7))\n",
    "fgax = plot.imview(util.tiledict(D), fgrf=fig)"
   ]
  },
  {
   "cell_type": "markdown",
   "metadata": {
    "deletable": true,
    "editable": true
   },
   "source": [
    "Set CBPDN solver class options."
   ]
  },
  {
   "cell_type": "code",
   "execution_count": null,
   "metadata": {
    "collapsed": true,
    "deletable": true,
    "editable": true
   },
   "outputs": [],
   "source": [
    "# Set up ConvBPDN options\n",
    "lmbda = 1e-1\n",
    "opt = cbpdn.ConvBPDN.Options({'Verbose' : True, 'MaxMainIter' : 200,\n",
    "                              'LinSolveCheck' : True, 'RelStopTol' : 1e-3,\n",
    "                              'AuxVarObj' : False})"
   ]
  },
  {
   "cell_type": "markdown",
   "metadata": {
    "deletable": true,
    "editable": true
   },
   "source": [
    "Initialise and run CBPDN solver and then reconstruct image from sparse representation."
   ]
  },
  {
   "cell_type": "code",
   "execution_count": null,
   "metadata": {
    "collapsed": false,
    "deletable": true,
    "editable": true
   },
   "outputs": [
    {
     "name": "stdout",
     "output_type": "stream",
     "text": [
      "Itn   Fnc       DFid      Regℓ1     r         s         ρ         \n",
      "----------------------------------------------------------------\n",
      "   0  6.21e+02  7.27e+00  6.14e+03  9.94e-01  3.56e-02  6.00e+00\n",
      "   1  5.05e+02  3.05e+01  4.75e+03  9.43e-01  1.13e-01  6.00e+00\n",
      "   2  4.21e+02  5.50e+01  3.66e+03  6.40e-01  2.21e-01  1.22e+01\n",
      "   3  3.52e+02  7.34e+01  2.79e+03  2.93e-01  2.65e-01  1.47e+01\n",
      "   4  3.73e+02  7.16e+01  3.02e+03  2.29e-01  2.02e-01  1.10e+01\n",
      "   5  3.77e+02  6.48e+01  3.12e+03  2.02e-01  1.33e-01  8.24e+00\n",
      "   6  3.41e+02  6.12e+01  2.79e+03  1.76e-01  1.00e-01  7.18e+00\n",
      "   7  3.03e+02  6.06e+01  2.43e+03  1.44e-01  7.91e-02  7.18e+00\n",
      "   8  2.77e+02  6.12e+01  2.16e+03  1.17e-01  6.45e-02  7.18e+00\n",
      "   9  2.63e+02  6.23e+01  2.01e+03  9.52e-02  5.35e-02  7.18e+00\n",
      "  10  2.54e+02  6.31e+01  1.91e+03  7.81e-02  4.58e-02  7.18e+00\n",
      "  11  2.46e+02  6.36e+01  1.83e+03  6.50e-02  4.06e-02  7.18e+00\n",
      "  12  2.42e+02  6.38e+01  1.78e+03  5.91e-02  3.65e-02  6.42e+00\n",
      "  13  2.39e+02  6.38e+01  1.76e+03  5.46e-02  3.23e-02  5.78e+00\n",
      "  14  2.36e+02  6.37e+01  1.73e+03  4.78e-02  2.84e-02  5.78e+00\n",
      "  15  2.32e+02  6.36e+01  1.68e+03  4.19e-02  2.57e-02  5.78e+00\n",
      "  16  2.28e+02  6.36e+01  1.64e+03  3.94e-02  2.37e-02  5.22e+00\n",
      "  17  2.25e+02  6.37e+01  1.61e+03  3.74e-02  2.16e-02  4.76e+00\n",
      "  18  2.22e+02  6.38e+01  1.59e+03  3.37e-02  1.95e-02  4.76e+00\n",
      "  19  2.20e+02  6.39e+01  1.56e+03  3.06e-02  1.77e-02  4.76e+00\n",
      "  20  2.18e+02  6.39e+01  1.54e+03  2.77e-02  1.65e-02  4.76e+00\n",
      "  21  2.15e+02  6.40e+01  1.51e+03  2.54e-02  1.54e-02  4.76e+00\n",
      "  22  2.13e+02  6.40e+01  1.49e+03  2.46e-02  1.44e-02  4.32e+00\n",
      "  23  2.12e+02  6.40e+01  1.48e+03  2.28e-02  1.33e-02  4.32e+00\n",
      "  24  2.10e+02  6.41e+01  1.46e+03  2.12e-02  1.24e-02  4.32e+00\n",
      "  25  2.09e+02  6.41e+01  1.45e+03  1.98e-02  1.17e-02  4.32e+00\n",
      "  26  2.07e+02  6.41e+01  1.43e+03  1.84e-02  1.10e-02  4.32e+00\n",
      "  27  2.06e+02  6.42e+01  1.42e+03  1.73e-02  1.04e-02  4.32e+00\n",
      "  28  2.04e+02  6.42e+01  1.40e+03  1.70e-02  9.83e-03  3.93e+00\n",
      "  29  2.04e+02  6.43e+01  1.39e+03  1.61e-02  9.23e-03  3.93e+00\n",
      "  30  2.03e+02  6.43e+01  1.38e+03  1.52e-02  8.68e-03  3.93e+00\n",
      "  31  2.02e+02  6.44e+01  1.37e+03  1.44e-02  8.21e-03  3.93e+00\n",
      "  32  2.01e+02  6.44e+01  1.37e+03  1.37e-02  7.80e-03  3.93e+00\n",
      "  33  2.00e+02  6.44e+01  1.36e+03  1.29e-02  7.41e-03  3.93e+00\n",
      "  34  1.99e+02  6.45e+01  1.35e+03  1.23e-02  7.05e-03  3.93e+00\n",
      "  35  1.99e+02  6.45e+01  1.34e+03  1.17e-02  6.72e-03  3.93e+00\n",
      "  36  1.98e+02  6.45e+01  1.33e+03  1.11e-02  6.42e-03  3.93e+00\n",
      "  37  1.97e+02  6.45e+01  1.32e+03  1.05e-02  6.15e-03  3.93e+00\n",
      "  38  1.96e+02  6.46e+01  1.32e+03  1.00e-02  5.89e-03  3.93e+00\n",
      "  39  1.96e+02  6.46e+01  1.31e+03  9.59e-03  5.64e-03  3.93e+00\n",
      "  40  1.95e+02  6.46e+01  1.30e+03  9.17e-03  5.39e-03  3.93e+00\n",
      "  41  1.94e+02  6.47e+01  1.30e+03  8.76e-03  5.17e-03  3.93e+00\n",
      "  42  1.94e+02  6.47e+01  1.29e+03  8.37e-03  4.96e-03  3.93e+00\n",
      "  43  1.93e+02  6.47e+01  1.29e+03  8.00e-03  4.76e-03  3.93e+00\n",
      "  44  1.93e+02  6.48e+01  1.28e+03  7.66e-03  4.59e-03  3.93e+00\n",
      "  45  1.92e+02  6.48e+01  1.28e+03  7.33e-03  4.42e-03  3.93e+00\n",
      "  46  1.92e+02  6.48e+01  1.27e+03  7.37e-03  4.25e-03  3.58e+00\n",
      "  47  1.92e+02  6.48e+01  1.27e+03  7.11e-03  4.08e-03  3.58e+00\n",
      "  48  1.92e+02  6.49e+01  1.27e+03  6.86e-03  3.90e-03  3.58e+00\n",
      "  49  1.91e+02  6.49e+01  1.26e+03  6.62e-03  3.73e-03  3.58e+00\n",
      "  50  1.91e+02  6.49e+01  1.26e+03  6.38e-03  3.58e-03  3.58e+00\n",
      "  51  1.91e+02  6.49e+01  1.26e+03  6.15e-03  3.43e-03  3.58e+00\n",
      "  52  1.91e+02  6.49e+01  1.26e+03  5.92e-03  3.30e-03  3.58e+00\n",
      "  53  1.90e+02  6.49e+01  1.25e+03  5.70e-03  3.18e-03  3.58e+00\n",
      "  54  1.90e+02  6.50e+01  1.25e+03  5.48e-03  3.06e-03  3.58e+00\n",
      "  55  1.90e+02  6.50e+01  1.25e+03  5.28e-03  2.95e-03  3.58e+00\n",
      "  56  1.89e+02  6.50e+01  1.24e+03  5.08e-03  2.85e-03  3.58e+00\n",
      "  57  1.89e+02  6.50e+01  1.24e+03  4.90e-03  2.75e-03  3.58e+00\n",
      "  58  1.89e+02  6.50e+01  1.24e+03  4.73e-03  2.66e-03  3.58e+00\n",
      "  59  1.89e+02  6.50e+01  1.24e+03  4.56e-03  2.57e-03  3.58e+00\n",
      "  60  1.89e+02  6.50e+01  1.24e+03  4.40e-03  2.48e-03  3.58e+00\n",
      "  61  1.88e+02  6.51e+01  1.23e+03  4.24e-03  2.41e-03  3.58e+00\n",
      "  62  1.88e+02  6.51e+01  1.23e+03  4.09e-03  2.33e-03  3.58e+00\n",
      "  63  1.88e+02  6.51e+01  1.23e+03  3.95e-03  2.25e-03  3.58e+00\n",
      "  64  1.88e+02  6.51e+01  1.23e+03  3.81e-03  2.18e-03  3.58e+00\n",
      "  65  1.88e+02  6.51e+01  1.23e+03  3.68e-03  2.11e-03  3.58e+00\n",
      "  66  1.88e+02  6.51e+01  1.23e+03  3.56e-03  2.04e-03  3.58e+00\n",
      "  67  1.88e+02  6.51e+01  1.23e+03  3.43e-03  1.98e-03  3.58e+00\n",
      "  68  1.88e+02  6.51e+01  1.22e+03  3.32e-03  1.91e-03  3.58e+00\n",
      "  69  1.87e+02  6.51e+01  1.22e+03  3.21e-03  1.86e-03  3.58e+00\n",
      "  70  1.87e+02  6.52e+01  1.22e+03  3.10e-03  1.80e-03  3.58e+00\n",
      "  71  1.87e+02  6.52e+01  1.22e+03  3.00e-03  1.74e-03  3.58e+00\n",
      "  72  1.87e+02  6.52e+01  1.22e+03  2.90e-03  1.69e-03  3.58e+00\n",
      "  73  1.87e+02  6.52e+01  1.22e+03  2.81e-03  1.63e-03  3.58e+00\n",
      "  74  1.87e+02  6.52e+01  1.22e+03  2.72e-03  1.58e-03  3.58e+00\n",
      "  75  1.87e+02  6.52e+01  1.22e+03  2.63e-03  1.54e-03  3.58e+00\n",
      "  76  1.87e+02  6.52e+01  1.22e+03  2.55e-03  1.49e-03  3.58e+00\n",
      "  77  1.87e+02  6.52e+01  1.22e+03  2.46e-03  1.45e-03  3.58e+00\n",
      "  78  1.87e+02  6.52e+01  1.22e+03  2.39e-03  1.41e-03  3.58e+00\n",
      "  79  1.87e+02  6.52e+01  1.22e+03  2.31e-03  1.36e-03  3.58e+00\n",
      "  80  1.87e+02  6.52e+01  1.21e+03  2.24e-03  1.32e-03  3.58e+00\n",
      "  81  1.87e+02  6.52e+01  1.21e+03  2.17e-03  1.28e-03  3.58e+00\n",
      "  82  1.87e+02  6.52e+01  1.21e+03  2.11e-03  1.25e-03  3.58e+00\n",
      "  83  1.87e+02  6.52e+01  1.21e+03  2.04e-03  1.21e-03  3.58e+00\n",
      "  84  1.86e+02  6.52e+01  1.21e+03  1.98e-03  1.18e-03  3.58e+00\n",
      "  85  1.86e+02  6.53e+01  1.21e+03  1.92e-03  1.14e-03  3.58e+00\n",
      "  86  1.86e+02  6.53e+01  1.21e+03  1.86e-03  1.11e-03  3.58e+00\n",
      "  87  1.86e+02  6.53e+01  1.21e+03  1.80e-03  1.08e-03  3.58e+00\n",
      "  88  1.86e+02  6.53e+01  1.21e+03  1.84e-03  1.05e-03  3.27e+00\n"
     ]
    }
   ],
   "source": [
    "# Solve CBPDN problem\n",
    "b = cbpdn.ConvBPDN(D, sh, lmbda, opt, dimK=0)\n",
    "X = b.solve()\n",
    "\n",
    "print(\"ConvBPDN solve time: %.2fs\" % b.runtime)\n",
    "\n",
    "# Reconstruct representation\n",
    "shr = b.reconstruct().squeeze()\n",
    "imgr = sl + shr\n",
    "print(\"Reconstruction PSNR: %.2fdB\\n\" % spl.psnr(img, imgr))"
   ]
  },
  {
   "cell_type": "markdown",
   "metadata": {
    "deletable": true,
    "editable": true
   },
   "source": [
    "Display low pass component and sum of absolute values of coefficient maps of highpass component."
   ]
  },
  {
   "cell_type": "code",
   "execution_count": null,
   "metadata": {
    "collapsed": false,
    "deletable": true,
    "editable": true
   },
   "outputs": [],
   "source": [
    "fig = plot.figure(figsize=(14,7))\n",
    "plot.subplot(1,2,1)\n",
    "fgax = plot.imview(sl, title='Lowpass component', fgrf=fig)\n",
    "plot.subplot(1,2,2)\n",
    "fgax = plot.imview(np.sum(abs(X), axis=b.cri.axisM).squeeze(),\n",
    "            title='Sparse representation', fgrf=fig)"
   ]
  },
  {
   "cell_type": "markdown",
   "metadata": {
    "deletable": true,
    "editable": true
   },
   "source": [
    "Display original and reconstructed images."
   ]
  },
  {
   "cell_type": "code",
   "execution_count": null,
   "metadata": {
    "collapsed": false,
    "deletable": true,
    "editable": true
   },
   "outputs": [],
   "source": [
    "fig = plot.figure(figsize=(14,7))\n",
    "plot.subplot(1,2,1)\n",
    "fgax = plot.imview(img, title='Original', fgrf=fig)\n",
    "plot.subplot(1,2,2)\n",
    "fgax = plot.imview(imgr, title='Reconstructed', fgrf=fig)"
   ]
  },
  {
   "cell_type": "markdown",
   "metadata": {
    "deletable": true,
    "editable": true
   },
   "source": [
    "Plot functional evolution during ADMM iterations."
   ]
  },
  {
   "cell_type": "code",
   "execution_count": null,
   "metadata": {
    "collapsed": false,
    "deletable": true,
    "editable": true,
    "scrolled": true
   },
   "outputs": [],
   "source": [
    "its = b.getitstat()\n",
    "plot.plot(its.ObjFun, xlbl='Iterations', ylbl='Functional')\n",
    "plot.close()"
   ]
  },
  {
   "cell_type": "markdown",
   "metadata": {
    "deletable": true,
    "editable": true
   },
   "source": [
    "Plot evolution of ADMM residuals and ADMM penalty parameter."
   ]
  },
  {
   "cell_type": "code",
   "execution_count": null,
   "metadata": {
    "collapsed": false,
    "deletable": true,
    "editable": true
   },
   "outputs": [],
   "source": [
    "plot.plot(np.vstack((its.PrimalRsdl, its.DualRsdl)).T,\n",
    "          ptyp='semilogy', xlbl='Iterations', ylbl='Residual',\n",
    "          lgnd=['Primal', 'Dual']);\n",
    "plot.plot(its.Rho, xlbl='Iterations', ylbl='Penalty Parameter')\n",
    "plot.close()"
   ]
  }
 ],
 "metadata": {
  "kernelspec": {
   "display_name": "Python 3",
   "language": "python",
   "name": "python3"
  },
  "language_info": {
   "codemirror_mode": {
    "name": "ipython",
    "version": 3
   },
   "file_extension": ".py",
   "mimetype": "text/x-python",
   "name": "python",
   "nbconvert_exporter": "python",
   "pygments_lexer": "ipython3",
   "version": "3.4.3"
  }
 },
 "nbformat": 4,
 "nbformat_minor": 2
}
