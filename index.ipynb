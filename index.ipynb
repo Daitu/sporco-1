{
 "cells": [
  {
   "cell_type": "markdown",
   "metadata": {
    "deletable": true,
    "editable": true
   },
   "source": [
    "# Jupyter Notebook SPORCO Usage Examples"
   ]
  },
  {
   "cell_type": "markdown",
   "metadata": {
    "deletable": true,
    "editable": true
   },
   "source": [
    "## Standard sparse representations"
   ]
  },
  {
   "cell_type": "markdown",
   "metadata": {
    "deletable": true,
    "editable": true
   },
   "source": [
    "- [Standard sparse coding](examples/stdsparse/demo_bpdn.ipynb)\n",
    "- [Standard sparse coding with joint sparsity](examples/stdsparse/demo_bpdnjnt.ipynb)"
   ]
  },
  {
   "cell_type": "markdown",
   "metadata": {
    "deletable": true,
    "editable": true
   },
   "source": [
    "## Convolutional sparse representations"
   ]
  },
  {
   "cell_type": "markdown",
   "metadata": {
    "deletable": true,
    "editable": true
   },
   "source": [
    "- [Convolutional sparse coding (greyscale image)](examples/cnvsparse/demo_cbpdn_gry.ipynb)  \n",
    "- [Convolutional sparse coding (colour image, greyscale dictionary)](examples/cnvsparse/demo_cbpdn_clr_gd.ipynb)\n",
    "- [Convolutional sparse coding (colour image, greyscale dictionary, joint sparsity)](examples/cnvsparse/demo_cbpdnjnt_clr.ipynb)\n",
    "- [Convolutional sparse coding (colour image, colour dictionary)](examples/cnvsparse/demo_cbpdn_clr_cd.ipynb)"
   ]
  },
  {
   "cell_type": "markdown",
   "metadata": {
    "deletable": true,
    "editable": true
   },
   "source": [
    "## Miscellaneous"
   ]
  },
  {
   "cell_type": "markdown",
   "metadata": {
    "deletable": true,
    "editable": true
   },
   "source": [
    "- [Colour image ℓ1-TV denoising](examples/misc/demo_tvl1den_clr.ipynb)\n",
    "- [Colour image ℓ2-TV denoising](examples/misc/demo_tvl2den_clr.ipynb)"
   ]
  }
 ],
 "metadata": {
  "kernelspec": {
   "display_name": "Python 3",
   "language": "python",
   "name": "python3"
  },
  "language_info": {
   "codemirror_mode": {
    "name": "ipython",
    "version": 3
   },
   "file_extension": ".py",
   "mimetype": "text/x-python",
   "name": "python",
   "nbconvert_exporter": "python",
   "pygments_lexer": "ipython3",
   "version": "3.4.3"
  }
 },
 "nbformat": 4,
 "nbformat_minor": 2
}
